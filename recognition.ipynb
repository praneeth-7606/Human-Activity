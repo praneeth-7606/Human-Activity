{
 "cells": [
  {
   "cell_type": "code",
   "execution_count": 1,
   "metadata": {},
   "outputs": [
    {
     "name": "stderr",
     "output_type": "stream",
     "text": [
      "/usr/lib/python3/dist-packages/requests/__init__.py:89: RequestsDependencyWarning: urllib3 (1.26.7) or chardet (3.0.4) doesn't match a supported version!\n",
      "  warnings.warn(\"urllib3 ({}) or chardet ({}) doesn't match a supported \"\n"
     ]
    }
   ],
   "source": [
    "# Get required libraries \n",
    "import numpy as np\n",
    "import pylab as pl\n",
    "import pandas as pd\n",
    "import matplotlib.pyplot as plt \n",
    "import seaborn as sns\n",
    "from sklearn.utils import shuffle\n",
    "from sklearn.svm import SVC\n",
    "from sklearn.metrics import confusion_matrix, classification_report\n",
    "from sklearn.model_selection import cross_val_score, GridSearchCV"
   ]
  },
  {
   "cell_type": "code",
   "execution_count": 2,
   "metadata": {
    "scrolled": true
   },
   "outputs": [],
   "source": [
    "#Load train and test datasets and shuffle the data \n",
    "import time\n",
    "start = time.time()\n",
    "train = shuffle(pd.read_csv(\"../train.csv\"))\n",
    "test = shuffle(pd.read_csv(\"../train.csv\"))"
   ]
  },
  {
   "cell_type": "code",
   "execution_count": 4,
   "metadata": {},
   "outputs": [],
   "source": [
    "def plot_confusion(classifier, test_pts, test_labels):\n",
    "    cl = ['STANDING',\n",
    "               'SITTING',\n",
    "               'LYING',\n",
    "               'WALKING',\n",
    "               'WALK_DOWN',\n",
    "               'WALK_UP']\n",
    "    \n",
    "    pred_label = classifier.predict(test_pts)\n",
    "\n",
    "    result = confusion_matrix(test_labels, pred_label)\n",
    "\n",
    "    fig = plt.figure()\n",
    "    ax = fig.add_subplot(111)\n",
    "    \n",
    "    cax = ax.matshow(result)\n",
    "\n",
    "    fig.colorbar(cax)\n",
    "    ax.set_xticklabels([''] + cl,rotation = 90)\n",
    "    ax.set_yticklabels([''] + cl)\n",
    "    plt.xlabel(\"Predicted Label\")\n",
    "    plt.ylabel(\"True Label\")\n",
    "    plt.show()"
   ]
  },
  {
   "cell_type": "code",
   "execution_count": 5,
   "metadata": {},
   "outputs": [
    {
     "name": "stdout",
     "output_type": "stream",
     "text": [
      "Any missing sample in training set: False\n",
      "Any missing sample in test set: False \n",
      "\n"
     ]
    },
    {
     "data": {
      "text/html": [
       "<div>\n",
       "<style scoped>\n",
       "    .dataframe tbody tr th:only-of-type {\n",
       "        vertical-align: middle;\n",
       "    }\n",
       "\n",
       "    .dataframe tbody tr th {\n",
       "        vertical-align: top;\n",
       "    }\n",
       "\n",
       "    .dataframe thead th {\n",
       "        text-align: right;\n",
       "    }\n",
       "</style>\n",
       "<table border=\"1\" class=\"dataframe\">\n",
       "  <thead>\n",
       "    <tr style=\"text-align: right;\">\n",
       "      <th>col_0</th>\n",
       "      <th>count</th>\n",
       "    </tr>\n",
       "    <tr>\n",
       "      <th>Activity</th>\n",
       "      <th></th>\n",
       "    </tr>\n",
       "  </thead>\n",
       "  <tbody>\n",
       "    <tr>\n",
       "      <th>LAYING</th>\n",
       "      <td>1407</td>\n",
       "    </tr>\n",
       "    <tr>\n",
       "      <th>SITTING</th>\n",
       "      <td>1286</td>\n",
       "    </tr>\n",
       "    <tr>\n",
       "      <th>STANDING</th>\n",
       "      <td>1374</td>\n",
       "    </tr>\n",
       "    <tr>\n",
       "      <th>WALKING</th>\n",
       "      <td>1226</td>\n",
       "    </tr>\n",
       "    <tr>\n",
       "      <th>WALKING_DOWNSTAIRS</th>\n",
       "      <td>986</td>\n",
       "    </tr>\n",
       "    <tr>\n",
       "      <th>WALKING_UPSTAIRS</th>\n",
       "      <td>1073</td>\n",
       "    </tr>\n",
       "  </tbody>\n",
       "</table>\n",
       "</div>"
      ],
      "text/plain": [
       "col_0               count\n",
       "Activity                 \n",
       "LAYING               1407\n",
       "SITTING              1286\n",
       "STANDING             1374\n",
       "WALKING              1226\n",
       "WALKING_DOWNSTAIRS    986\n",
       "WALKING_UPSTAIRS     1073"
      ]
     },
     "execution_count": 5,
     "metadata": {},
     "output_type": "execute_result"
    }
   ],
   "source": [
    "# Summary statistics of training and test data to check for missing values\n",
    "print(\"Any missing sample in training set:\",train.isnull().values.any())\n",
    "print(\"Any missing sample in test set:\",test.isnull().values.any(), \"\\n\")\n",
    "\n",
    "#Frequency distribution of classes\"\n",
    "train_outcome = pd.crosstab(index=train[\"Activity\"],  # Make a crosstab\n",
    "                              columns=\"count\")      # Name the count column\n",
    "\n",
    "train_outcome\n"
   ]
  },
  {
   "cell_type": "code",
   "execution_count": 6,
   "metadata": {},
   "outputs": [
    {
     "data": {
      "image/png": "[encoded data removed]",
      "text/plain": [
       "<Figure size 432x288 with 1 Axes>"
      ]
     },
     "metadata": {},
     "output_type": "display_data"
    }
   ],
   "source": [
    "# Visualizing Outcome Distribution \n",
    "temp = train[\"Activity\"].value_counts()\n",
    "df = pd.DataFrame({'labels': temp.index,\n",
    "                   'values': temp.values\n",
    "                  })\n",
    "\n",
    "#df.plot(kind='pie',labels='labels',values='values', title='Activity Ditribution',subplots= \"True\")\n",
    "\n",
    "labels = df['labels']\n",
    "sizes = df['values']\n",
    "colors = ['yellowgreen', 'gold', 'lightskyblue', 'lightcoral','cyan','lightpink']\n",
    "patches, texts = plt.pie(sizes, colors=colors, shadow=True, startangle=90, pctdistance=1.1, labeldistance=1.2)\n",
    "plt.legend(patches, labels, loc=\"best\")\n",
    "plt.axis('equal')\n",
    "plt.tight_layout()\n",
    "plt.show()\n"
   ]
  },
  {
   "cell_type": "code",
   "execution_count": 7,
   "metadata": {},
   "outputs": [
    {
     "name": "stdout",
     "output_type": "stream",
     "text": [
      "Dimension of Train set (7352, 561)\n",
      "Dimension of Test set (7352, 561) \n",
      "\n",
      "Number of numeric features: 561\n"
     ]
    }
   ],
   "source": [
    "# Seperating Predictors and Outcome values from train and test sets\n",
    "X_train = pd.DataFrame(train.drop(['Activity','subject'],axis=1))\n",
    "Y_train_label = train.Activity.values.astype(object)\n",
    "X_test = pd.DataFrame(test.drop(['Activity','subject'],axis=1))\n",
    "Y_test_label = test.Activity.values.astype(object)\n",
    "\n",
    "# Dimension of Train and Test set \n",
    "print(\"Dimension of Train set\",X_train.shape)\n",
    "print(\"Dimension of Test set\",X_test.shape,\"\\n\")\n",
    "\n",
    "# Transforming non numerical labels into numerical labels\n",
    "from sklearn import preprocessing\n",
    "encoder = preprocessing.LabelEncoder()\n",
    "\n",
    "# encoding train labels \n",
    "encoder.fit(Y_train_label)\n",
    "Y_train = encoder.transform(Y_train_label)\n",
    "\n",
    "# encoding test labels \n",
    "encoder.fit(Y_test_label)\n",
    "Y_test = encoder.transform(Y_test_label)\n",
    "\n",
    "#Total Number of Continous and Categorical features in the training set\n",
    "num_cols = X_train._get_numeric_data().columns\n",
    "print(\"Number of numeric features:\",num_cols.size)\n",
    "#list(set(X_train.columns) - set(num_cols))\n",
    "\n",
    "\n",
    "names_of_predictors = list(X_train.columns.values)\n",
    "\n",
    "# Scaling the Train and Test feature set \n",
    "from sklearn.preprocessing import StandardScaler\n",
    "\n",
    "scaler = StandardScaler()\n",
    "X_train_scaled = scaler.fit_transform(X_train)\n",
    "X_test_scaled = scaler.transform(X_test)\n"
   ]
  },
  {
   "cell_type": "code",
   "execution_count": 8,
   "metadata": {},
   "outputs": [
    {
     "name": "stdout",
     "output_type": "stream",
     "text": [
      "0.9936127945677421\n"
     ]
    }
   ],
   "source": [
    "from sklearn.decomposition import PCA\n",
    "\n",
    "pca = PCA(n_components=200)\n",
    "\n",
    "X_train_scaled = pca.fit_transform(X_train_scaled, Y_train)\n",
    "print(pca.explained_variance_ratio_.sum())\n",
    "X_test_scaled = pca.transform(X_test_scaled)"
   ]
  },
  {
   "cell_type": "code",
   "execution_count": 9,
   "metadata": {},
   "outputs": [],
   "source": [
    "#Libraries to Build Ensemble Model : Random Forest Classifier \n",
    "# Create the parameter grid based on the results of random search \n",
    "params_grid = [{'kernel': ['rbf'], 'gamma': [1e-2, 1e-3, 1e-4],\n",
    "                'C': [1, 10, 100]},\n",
    "               {'kernel': ['linear'], 'C': [1, 10, 100]}]\n"
   ]
  },
  {
   "cell_type": "code",
   "execution_count": 10,
   "metadata": {},
   "outputs": [
    {
     "name": "stdout",
     "output_type": "stream",
     "text": [
      "Best score for training data: 0.9865342763873777 \n",
      "\n",
      "Best C: 100 \n",
      "\n",
      "Best Kernel: rbf \n",
      "\n",
      "Best Gamma: 0.001 \n",
      "\n"
     ]
    }
   ],
   "source": [
    "# Performing CV to tune parameters for best SVM fit \n",
    "svm_model = GridSearchCV(SVC(), params_grid, cv=8)\n",
    "svm_model.fit(X_train_scaled, Y_train)\n",
    "\n",
    "# View the accuracy score\n",
    "print('Best score for training data:', svm_model.best_score_,\"\\n\") \n",
    "\n",
    "# View the best parameters for the model found using grid search\n",
    "print('Best C:',svm_model.best_estimator_.C,\"\\n\") \n",
    "print('Best Kernel:',svm_model.best_estimator_.kernel,\"\\n\")\n",
    "print('Best Gamma:',svm_model.best_estimator_.gamma,\"\\n\")"
   ]
  },
  {
   "cell_type": "code",
   "execution_count": 11,
   "metadata": {},
   "outputs": [
    {
     "name": "stdout",
     "output_type": "stream",
     "text": [
      "[[1407    0    0    0    0    0]\n",
      " [   0 1286    0    0    0    0]\n",
      " [   0    0 1374    0    0    0]\n",
      " [   0    0    0 1226    0    0]\n",
      " [   0    0    0    0  986    0]\n",
      " [   0    0    0    0    0 1073]]\n",
      "\n",
      "\n",
      "                    precision    recall  f1-score   support\n",
      "\n",
      "            LAYING       1.00      1.00      1.00      1407\n",
      "           SITTING       1.00      1.00      1.00      1286\n",
      "          STANDING       1.00      1.00      1.00      1374\n",
      "           WALKING       1.00      1.00      1.00      1226\n",
      "WALKING_DOWNSTAIRS       1.00      1.00      1.00       986\n",
      "  WALKING_UPSTAIRS       1.00      1.00      1.00      1073\n",
      "\n",
      "          accuracy                           1.00      7352\n",
      "         macro avg       1.00      1.00      1.00      7352\n",
      "      weighted avg       1.00      1.00      1.00      7352\n",
      "\n"
     ]
    },
    {
     "name": "stderr",
     "output_type": "stream",
     "text": [
      "/tmp/ipykernel_17152/2946168973.py:19: UserWarning: FixedFormatter should only be used together with FixedLocator\n",
      "  ax.set_xticklabels([''] + cl,rotation = 90)\n",
      "/tmp/ipykernel_17152/2946168973.py:20: UserWarning: FixedFormatter should only be used together with FixedLocator\n",
      "  ax.set_yticklabels([''] + cl)\n"
     ]
    },
    {
     "data": {
      "image/png": "[encoded data removed]",
      "text/plain": [
       "<Figure size 432x288 with 2 Axes>"
      ]
     },
     "metadata": {
      "needs_background": "light"
     },
     "output_type": "display_data"
    },
    {
     "name": "stdout",
     "output_type": "stream",
     "text": [
      "Training set score for SVM: 1.000000\n",
      "Testing  set score for SVM: 1.000000\n",
      "Running time: 1355.5131695270538 Seconds\n"
     ]
    }
   ],
   "source": [
    "final_model = svm_model.best_estimator_\n",
    "Y_pred = final_model.predict(X_test_scaled)\n",
    "Y_pred_label = list(encoder.inverse_transform(Y_pred))\n",
    "\n",
    "# Making the Confusion Matrix\n",
    "\n",
    "print(confusion_matrix(Y_test_label,Y_pred_label))\n",
    "print(\"\\n\")\n",
    "print(classification_report(Y_test_label,Y_pred_label))\n",
    "plot_confusion(final_model,X_test_scaled , Y_test)\n",
    "\n",
    "print(\"Training set score for SVM: %f\" % final_model.score(X_train_scaled , Y_train))\n",
    "print(\"Testing  set score for SVM: %f\" % final_model.score(X_test_scaled  , Y_test ))\n",
    "\n",
    "end = time.time()\n",
    "print('Running time: %s Seconds'%(end-start))"
   ]
  },
  {
   "cell_type": "code",
   "execution_count": null,
   "metadata": {},
   "outputs": [],
   "source": []
  }
 ],
 "metadata": {
  "kernelspec": {
   "display_name": "Python 3 (ipykernel)",
   "language": "python",
   "name": "python3"
  },
  "language_info": {
   "codemirror_mode": {
    "name": "ipython",
    "version": 3
   },
   "file_extension": ".py",
   "mimetype": "text/x-python",
   "name": "python",
   "nbconvert_exporter": "python",
   "pygments_lexer": "ipython3",
   "version": "3.8.10"
  }
 },
 "nbformat": 4,
 "nbformat_minor": 2
}
